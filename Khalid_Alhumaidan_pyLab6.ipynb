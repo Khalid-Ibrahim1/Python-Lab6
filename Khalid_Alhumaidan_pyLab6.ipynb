{
 "cells": [
  {
   "cell_type": "code",
   "execution_count": 2,
   "metadata": {},
   "outputs": [
    {
     "data": {
      "text/plain": [
       "['Amal', 'Khadijah', 'Mohammed', 'Abdullah', 'Rawan', 'Faisal', 'Layla']"
      ]
     },
     "execution_count": 2,
     "metadata": {},
     "output_type": "execute_result"
    }
   ],
   "source": [
    "numbers_dict = {\n",
    "    'Name' : ['Amal', 'Khadijah', 'Mohammed', 'Abdullah', 'Rawan', 'Faisal', 'Layla'],\n",
    "    'Number': [1111111111, 2222222222, 3333333333, 4444444444, 5555555555, 6666666666, 7777777777]\n",
    "    }\n",
    "numbers_dict"
   ]
  },
  {
   "cell_type": "code",
   "execution_count": 74,
   "metadata": {},
   "outputs": [
    {
     "name": "stdout",
     "output_type": "stream",
     "text": [
      "1111111111 is is the number of Amal\n"
     ]
    }
   ],
   "source": [
    "def search():\n",
    "    try:\n",
    "        Phone = int(input('Enter the number: '))        \n",
    "        if len(str(Phone)) != 10:\n",
    "            raise TypeError('This is invalid number')\n",
    "        else:\n",
    "            for i in numbers_dict['Number']:\n",
    "                if i == Phone:\n",
    "                    print(i, 'is is the number of', numbers_dict['Name'][numbers_dict['Number'].index(i)])\n",
    "                    break\n",
    "            else:\n",
    "                print('This number is not in the dictionary')\n",
    "    except TypeError as e:\n",
    "        print(e)\n",
    "    except ValueError:\n",
    "        print('This is invalid number')\n",
    "\n",
    "search()"
   ]
  }
 ],
 "metadata": {
  "kernelspec": {
   "display_name": "Python 3",
   "language": "python",
   "name": "python3"
  },
  "language_info": {
   "codemirror_mode": {
    "name": "ipython",
    "version": 3
   },
   "file_extension": ".py",
   "mimetype": "text/x-python",
   "name": "python",
   "nbconvert_exporter": "python",
   "pygments_lexer": "ipython3",
   "version": "3.10.2"
  },
  "orig_nbformat": 4
 },
 "nbformat": 4,
 "nbformat_minor": 2
}
